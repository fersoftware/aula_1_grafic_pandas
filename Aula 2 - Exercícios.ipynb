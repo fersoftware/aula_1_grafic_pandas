{
 "cells": [
  {
   "cell_type": "markdown",
   "id": "27db421d",
   "metadata": {},
   "source": [
    "### Aula 2: Exercícios\n",
    "\n",
    "Para estes exercícios, iremos utilizar duas bases:\n",
    "\n",
    "1) base fictícia de funcionários criada por cientistas de dados da IBM.\n",
    "\n",
    "**Variáveis:**\n",
    "- **Age:** Idade\n",
    "- **Attrition:** Se saiu da empresa (Sim ou não)\n",
    "- **BusinessTravel:** Frequência de viagens a trabalho\n",
    "- **DailyRate:** Custo do funcionário por dia\n",
    "- **Department:** Departamento\n",
    "- **DistanceFromHome:** Distância do trabalho até a casa do funcionário\n",
    "- **Education:** Nível de educação:\n",
    "    - 1: 'Below College'\n",
    "    - 2: 'College'\n",
    "    - 3: 'Bachelor'\n",
    "    - 4: 'Master'\n",
    "    - 5: 'Doctor'\n",
    "- **EducationField:** Área da educação\n",
    "- **EmployeeNumber:** ID do funcionário\n",
    "- **EnvironmentSatisfaction:** Satisfação com o ambiente de trabalho:\n",
    "    - 1: 'Low'\n",
    "    - 2: 'Medium'\n",
    "    - 3: 'High'\n",
    "    - 4: 'Very High'\n",
    "- **Gender:** Gênero\n",
    "- **HourlyRate:** Valor/hora\n",
    "- **JobInvolvement:** Nível de envolvimento com o trabalho (psicologica e emocionalmente):\n",
    "    - 1: 'Low'\n",
    "    - 2: 'Medium'\n",
    "    - 3: 'High'\n",
    "    - 4: 'Very High'\n",
    "- **JobLevel:** Nível do funcionário\n",
    "- **JobRole:** Cargo\n",
    "- **JobSatisfaction:** Nível de satisfação com o trabalho:\n",
    "    - 1: 'Low'\n",
    "    - 2: 'Medium'\n",
    "    - 3: 'High'\n",
    "    - 4: 'Very High'\n",
    "- **MaritalStatus:** Estado Civil\n",
    "- **NumCompaniesWorked:** Número de empresas que já trabalhou\n",
    "- **PercentSalaryHike:** Aumento salarial (%)\n",
    "- **PerformanceRating:** Nível de performance:\n",
    "    - 1: 'Low'\n",
    "    - 2: 'Good'\n",
    "    - 3: 'Excellent'\n",
    "    - 4: 'Outstanding'\n",
    "- **RelationshipSatisfaction:** Satisfação de relacionamento:\n",
    "    - 1: 'Low'\n",
    "    - 2: 'Medium'\n",
    "    - 3: 'High'\n",
    "    - 4: 'Very High'\n",
    "- **TotalWorkingYears:** Número de anos trabalhados\n",
    "- **TrainingTimesLastYear:** Número de treinamentos no ano anterior\n",
    "- **WorkLifeBalance:** Equilíbrio da vida profissional\n",
    "    - 1: 'Bad'\n",
    "    - 2: 'Good'\n",
    "    - 3: 'Better'\n",
    "    - 4: 'Best'\n",
    "- **YearsAtCompany:** Anos na empresa\n",
    "- **YearsInCurrentRole:** Anos na posição atual\n",
    "- **YearsSinceLastPromotion:** Anos desde a última promoção\n",
    "- **YearsWithCurrManager:** Anos com o mesmo gestor\n",
    "\n",
    "2) Base de dados de casos e óbitos de covid no estado de SP.\n",
    "\n",
    "- **nome_munic:** Nome do município\n",
    "- **codigo_ibge:** Código do município no IBGE (7 dígitos)\n",
    "- **casos_novos:** Casos novos registrados na data\n",
    "- **obitos_novos:** Óbitos novos registrados na data\n",
    "- **nome_drs:** Nome do Dpto. Regional de Saúde\n",
    "- **cod_drs:** Código do Dpto. Regional de Saúde\n",
    "- **pop:** População Estimada (fonte: SEADE)\n",
    "- **pop60:** População acima de 60 anos (fonte: SEADE)\n",
    "- **ano_mes:** Ano e mês dos dados"
   ]
  },
  {
   "cell_type": "code",
   "execution_count": 1,
   "id": "cc8717bc",
   "metadata": {},
   "outputs": [],
   "source": [
    "import pandas as pd\n",
    "import numpy as np"
   ]
  },
  {
   "cell_type": "code",
   "execution_count": 2,
   "id": "cd39ba13",
   "metadata": {},
   "outputs": [],
   "source": [
    "df1 = pd.read_csv('./data/IBM_Employees.csv')"
   ]
  },
  {
   "cell_type": "code",
   "execution_count": 3,
   "id": "0a4730cc",
   "metadata": {},
   "outputs": [],
   "source": [
    "df2 = pd.read_csv('./data/dados_covid_sp_20.csv')"
   ]
  },
  {
   "cell_type": "code",
   "execution_count": 4,
   "id": "2e9dfb26-624e-4769-83d8-8359b20929e4",
   "metadata": {},
   "outputs": [
    {
     "data": {
      "text/html": [
       "<div>\n",
       "<style scoped>\n",
       "    .dataframe tbody tr th:only-of-type {\n",
       "        vertical-align: middle;\n",
       "    }\n",
       "\n",
       "    .dataframe tbody tr th {\n",
       "        vertical-align: top;\n",
       "    }\n",
       "\n",
       "    .dataframe thead th {\n",
       "        text-align: right;\n",
       "    }\n",
       "</style>\n",
       "<table border=\"1\" class=\"dataframe\">\n",
       "  <thead>\n",
       "    <tr style=\"text-align: right;\">\n",
       "      <th></th>\n",
       "      <th>nome_munic</th>\n",
       "      <th>codigo_ibge</th>\n",
       "      <th>nome_drs</th>\n",
       "      <th>cod_drs</th>\n",
       "      <th>pop</th>\n",
       "      <th>pop_60</th>\n",
       "      <th>ano_mes</th>\n",
       "      <th>casos_novos</th>\n",
       "      <th>obitos_novos</th>\n",
       "    </tr>\n",
       "  </thead>\n",
       "  <tbody>\n",
       "    <tr>\n",
       "      <th>2816</th>\n",
       "      <td>São José dos Campos</td>\n",
       "      <td>3549904</td>\n",
       "      <td>Taubaté</td>\n",
       "      <td>17.0</td>\n",
       "      <td>710654.0</td>\n",
       "      <td>103840.0</td>\n",
       "      <td>2020-03</td>\n",
       "      <td>9</td>\n",
       "      <td>0</td>\n",
       "    </tr>\n",
       "    <tr>\n",
       "      <th>1100</th>\n",
       "      <td>Ibiúna</td>\n",
       "      <td>3519709</td>\n",
       "      <td>Sorocaba</td>\n",
       "      <td>6.0</td>\n",
       "      <td>76430.0</td>\n",
       "      <td>10936.0</td>\n",
       "      <td>2020-02</td>\n",
       "      <td>0</td>\n",
       "      <td>0</td>\n",
       "    </tr>\n",
       "    <tr>\n",
       "      <th>2596</th>\n",
       "      <td>Santa Maria da Serra</td>\n",
       "      <td>3547007</td>\n",
       "      <td>Piracicaba</td>\n",
       "      <td>11.0</td>\n",
       "      <td>6141.0</td>\n",
       "      <td>793.0</td>\n",
       "      <td>2020-03</td>\n",
       "      <td>0</td>\n",
       "      <td>0</td>\n",
       "    </tr>\n",
       "    <tr>\n",
       "      <th>2198</th>\n",
       "      <td>Pompéia</td>\n",
       "      <td>3540002</td>\n",
       "      <td>Marília</td>\n",
       "      <td>5.0</td>\n",
       "      <td>21282.0</td>\n",
       "      <td>3745.0</td>\n",
       "      <td>2020-05</td>\n",
       "      <td>1</td>\n",
       "      <td>0</td>\n",
       "    </tr>\n",
       "    <tr>\n",
       "      <th>3034</th>\n",
       "      <td>Trabiju</td>\n",
       "      <td>3554755</td>\n",
       "      <td>Araraquara</td>\n",
       "      <td>8.0</td>\n",
       "      <td>1703.0</td>\n",
       "      <td>281.0</td>\n",
       "      <td>2020-06</td>\n",
       "      <td>0</td>\n",
       "      <td>0</td>\n",
       "    </tr>\n",
       "    <tr>\n",
       "      <th>221</th>\n",
       "      <td>Avaí</td>\n",
       "      <td>3504305</td>\n",
       "      <td>Bauru</td>\n",
       "      <td>12.0</td>\n",
       "      <td>5288.0</td>\n",
       "      <td>853.0</td>\n",
       "      <td>2020-03</td>\n",
       "      <td>0</td>\n",
       "      <td>0</td>\n",
       "    </tr>\n",
       "    <tr>\n",
       "      <th>123</th>\n",
       "      <td>Arandu</td>\n",
       "      <td>3503109</td>\n",
       "      <td>Bauru</td>\n",
       "      <td>12.0</td>\n",
       "      <td>6165.0</td>\n",
       "      <td>1030.0</td>\n",
       "      <td>2020-05</td>\n",
       "      <td>1</td>\n",
       "      <td>0</td>\n",
       "    </tr>\n",
       "    <tr>\n",
       "      <th>2177</th>\n",
       "      <td>Pitangueiras</td>\n",
       "      <td>3539509</td>\n",
       "      <td>Ribeirão Preto</td>\n",
       "      <td>1.0</td>\n",
       "      <td>38584.0</td>\n",
       "      <td>4770.0</td>\n",
       "      <td>2020-04</td>\n",
       "      <td>1</td>\n",
       "      <td>1</td>\n",
       "    </tr>\n",
       "    <tr>\n",
       "      <th>660</th>\n",
       "      <td>Corumbataí</td>\n",
       "      <td>3512704</td>\n",
       "      <td>Piracicaba</td>\n",
       "      <td>11.0</td>\n",
       "      <td>3962.0</td>\n",
       "      <td>671.0</td>\n",
       "      <td>2020-02</td>\n",
       "      <td>0</td>\n",
       "      <td>0</td>\n",
       "    </tr>\n",
       "    <tr>\n",
       "      <th>716</th>\n",
       "      <td>Cândido Mota</td>\n",
       "      <td>3510005</td>\n",
       "      <td>Marília</td>\n",
       "      <td>5.0</td>\n",
       "      <td>30019.0</td>\n",
       "      <td>5524.0</td>\n",
       "      <td>2020-03</td>\n",
       "      <td>0</td>\n",
       "      <td>0</td>\n",
       "    </tr>\n",
       "    <tr>\n",
       "      <th>663</th>\n",
       "      <td>Corumbataí</td>\n",
       "      <td>3512704</td>\n",
       "      <td>Piracicaba</td>\n",
       "      <td>11.0</td>\n",
       "      <td>3962.0</td>\n",
       "      <td>671.0</td>\n",
       "      <td>2020-05</td>\n",
       "      <td>0</td>\n",
       "      <td>0</td>\n",
       "    </tr>\n",
       "    <tr>\n",
       "      <th>2651</th>\n",
       "      <td>Santo Antônio de Posse</td>\n",
       "      <td>3548005</td>\n",
       "      <td>Campinas</td>\n",
       "      <td>3.0</td>\n",
       "      <td>22849.0</td>\n",
       "      <td>3160.0</td>\n",
       "      <td>2020-03</td>\n",
       "      <td>0</td>\n",
       "      <td>0</td>\n",
       "    </tr>\n",
       "    <tr>\n",
       "      <th>1659</th>\n",
       "      <td>Mira Estrela</td>\n",
       "      <td>3530003</td>\n",
       "      <td>São José do Rio Preto</td>\n",
       "      <td>15.0</td>\n",
       "      <td>2939.0</td>\n",
       "      <td>679.0</td>\n",
       "      <td>2020-06</td>\n",
       "      <td>0</td>\n",
       "      <td>0</td>\n",
       "    </tr>\n",
       "    <tr>\n",
       "      <th>2083</th>\n",
       "      <td>Pereiras</td>\n",
       "      <td>3537503</td>\n",
       "      <td>Bauru</td>\n",
       "      <td>12.0</td>\n",
       "      <td>8428.0</td>\n",
       "      <td>1408.0</td>\n",
       "      <td>2020-05</td>\n",
       "      <td>2</td>\n",
       "      <td>0</td>\n",
       "    </tr>\n",
       "    <tr>\n",
       "      <th>2227</th>\n",
       "      <td>Porangaba</td>\n",
       "      <td>3540507</td>\n",
       "      <td>Bauru</td>\n",
       "      <td>12.0</td>\n",
       "      <td>9310.0</td>\n",
       "      <td>1838.0</td>\n",
       "      <td>2020-04</td>\n",
       "      <td>0</td>\n",
       "      <td>0</td>\n",
       "    </tr>\n",
       "  </tbody>\n",
       "</table>\n",
       "</div>"
      ],
      "text/plain": [
       "                  nome_munic  codigo_ibge               nome_drs  cod_drs  \\\n",
       "2816     São José dos Campos      3549904                Taubaté     17.0   \n",
       "1100                  Ibiúna      3519709               Sorocaba      6.0   \n",
       "2596    Santa Maria da Serra      3547007             Piracicaba     11.0   \n",
       "2198                 Pompéia      3540002                Marília      5.0   \n",
       "3034                 Trabiju      3554755             Araraquara      8.0   \n",
       "221                     Avaí      3504305                  Bauru     12.0   \n",
       "123                   Arandu      3503109                  Bauru     12.0   \n",
       "2177            Pitangueiras      3539509         Ribeirão Preto      1.0   \n",
       "660               Corumbataí      3512704             Piracicaba     11.0   \n",
       "716             Cândido Mota      3510005                Marília      5.0   \n",
       "663               Corumbataí      3512704             Piracicaba     11.0   \n",
       "2651  Santo Antônio de Posse      3548005               Campinas      3.0   \n",
       "1659            Mira Estrela      3530003  São José do Rio Preto     15.0   \n",
       "2083                Pereiras      3537503                  Bauru     12.0   \n",
       "2227               Porangaba      3540507                  Bauru     12.0   \n",
       "\n",
       "           pop    pop_60  ano_mes  casos_novos  obitos_novos  \n",
       "2816  710654.0  103840.0  2020-03            9             0  \n",
       "1100   76430.0   10936.0  2020-02            0             0  \n",
       "2596    6141.0     793.0  2020-03            0             0  \n",
       "2198   21282.0    3745.0  2020-05            1             0  \n",
       "3034    1703.0     281.0  2020-06            0             0  \n",
       "221     5288.0     853.0  2020-03            0             0  \n",
       "123     6165.0    1030.0  2020-05            1             0  \n",
       "2177   38584.0    4770.0  2020-04            1             1  \n",
       "660     3962.0     671.0  2020-02            0             0  \n",
       "716    30019.0    5524.0  2020-03            0             0  \n",
       "663     3962.0     671.0  2020-05            0             0  \n",
       "2651   22849.0    3160.0  2020-03            0             0  \n",
       "1659    2939.0     679.0  2020-06            0             0  \n",
       "2083    8428.0    1408.0  2020-05            2             0  \n",
       "2227    9310.0    1838.0  2020-04            0             0  "
      ]
     },
     "execution_count": 4,
     "metadata": {},
     "output_type": "execute_result"
    }
   ],
   "source": [
    "df2.sample(15)"
   ]
  },
  {
   "cell_type": "markdown",
   "id": "272987e1",
   "metadata": {},
   "source": [
    "## Exercício 1:\n",
    "Utilizando a base de dados de covid:\n",
    "\n",
    "**a)** Faça um gráfico de barras mostrando o total de óbitos (considerando todos os meses) para todos os DRS, excluindo a Grande São Paulo. Coloque título no gráfico e nos eixos, defina um tamanho de imagem bom e intercale as barras com as cores 'red' e 'green'."
   ]
  },
  {
   "cell_type": "code",
   "execution_count": 21,
   "id": "4a83d80c-4900-4120-baaf-0ed73cc387de",
   "metadata": {},
   "outputs": [
    {
     "data": {
      "image/png": "[encoded data removed]",
      "text/plain": [
       "<Figure size 720x360 with 1 Axes>"
      ]
     },
     "metadata": {
      "needs_background": "light"
     },
     "output_type": "display_data"
    }
   ],
   "source": [
    "df2[df2['nome_drs']!='Grande São Paulo'].groupby(['nome_drs'], as_index=False).sum()\\\n",
    ".plot( x='nome_drs', y='obitos_novos', kind='bar', figsize=(10,5), title='Total de óbitos por DRS', color=['red','green'],\\\n",
    "      label='óbitos',xlabel='Nome DRS', ylabel='Quantidade de óbitos');"
   ]
  },
  {
   "cell_type": "markdown",
   "id": "5889d8f5",
   "metadata": {},
   "source": [
    "**b)**  Faça um gráfico de barras horizontal mostrando o total de óbitos no mês de abril para 3 DRS da sua escolha. Coloque título no gráfico e nos eixos, defina um tamanho de imagem bom."
   ]
  },
  {
   "cell_type": "code",
   "execution_count": 26,
   "id": "93794eb1-159d-472f-a8b2-61f44457145d",
   "metadata": {},
   "outputs": [
    {
     "data": {
      "image/png": "[encoded data removed]",
      "text/plain": [
       "<Figure size 720x360 with 1 Axes>"
      ]
     },
     "metadata": {
      "needs_background": "light"
     },
     "output_type": "display_data"
    }
   ],
   "source": [
    "city = ['Araraquara', 'Bauru', 'Piracicaba']\n",
    "\n",
    "df2[df2['nome_drs'].isin(city)\n",
    "   & (df2.ano_mes=='2020-04')].groupby(['nome_drs'], as_index=False).sum()\\\n",
    ".plot(x='nome_drs', y='obitos_novos', kind='barh', figsize=(10,5),\\\n",
    "      title='Óbitos por DRS no mês de abril/20', label='óbitos', xlabel='Nome DRS', rot=40);"
   ]
  },
  {
   "cell_type": "markdown",
   "id": "cdcbe7ac",
   "metadata": {},
   "source": [
    "## Exercício 2\n",
    "\n",
    "**a)** Utilizando a base de dados da IBM, crie um histograma para as idades dos funcionários, separando por gênero."
   ]
  },
  {
   "cell_type": "code",
   "execution_count": 52,
   "id": "71c2fb1a",
   "metadata": {},
   "outputs": [
    {
     "data": {
      "image/png": "[encoded data removed]",
      "text/plain": [
       "<Figure size 1080x720 with 1 Axes>"
      ]
     },
     "metadata": {
      "needs_background": "light"
     },
     "output_type": "display_data"
    }
   ],
   "source": [
    "graph = lambda df,gender,_color,_ax=None : \\\n",
    "df[df['Gender']==gender].plot(y='Age', kind='hist', bins=10, figsize=(15,10), alpha=.5,label=gender, color=_color,ax=_ax)\n",
    "\n",
    "ax_hist = graph(df1,'Female','red')\n",
    "ax_hist.set_xlabel('Idade', fontsize=15);\n",
    "\n",
    "ax_hist2 = graph(df1,'Male','blue',ax_hist)"
   ]
  },
  {
   "cell_type": "markdown",
   "id": "8c9a5551",
   "metadata": {},
   "source": [
    "**b)** Faça agora um boxplot das idades, por gênero."
   ]
  },
  {
   "cell_type": "code",
   "execution_count": 67,
   "id": "f83ba29f-b09b-4785-a4f2-c7da700c1664",
   "metadata": {},
   "outputs": [],
   "source": [
    "import matplotlib.pyplot as plt"
   ]
  },
  {
   "cell_type": "code",
   "execution_count": 123,
   "id": "19ebc888",
   "metadata": {},
   "outputs": [
    {
     "data": {
      "image/png": "[encoded data removed]",
      "text/plain": [
       "<Figure size 432x288 with 1 Axes>"
      ]
     },
     "metadata": {
      "needs_background": "light"
     },
     "output_type": "display_data"
    }
   ],
   "source": [
    "fig = df1.boxplot(column='Age', by='Gender', rot=90)\n",
    "fig.get_figure().suptitle('Age');\n",
    "plt.title('');"
   ]
  }
 ],
 "metadata": {
  "kernelspec": {
   "display_name": "Python 3 (ipykernel)",
   "language": "python",
   "name": "python3"
  },
  "language_info": {
   "codemirror_mode": {
    "name": "ipython",
    "version": 3
   },
   "file_extension": ".py",
   "mimetype": "text/x-python",
   "name": "python",
   "nbconvert_exporter": "python",
   "pygments_lexer": "ipython3",
   "version": "3.9.7"
  }
 },
 "nbformat": 4,
 "nbformat_minor": 5
}
